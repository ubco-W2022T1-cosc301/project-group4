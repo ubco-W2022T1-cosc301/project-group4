{
 "cells": [
  {
   "cell_type": "markdown",
   "metadata": {},
   "source": [
    "# Adam Ahtesham"
   ]
  },
  {
   "cell_type": "markdown",
   "metadata": {},
   "source": [
    "## Research question/interests\n",
    "\n",
    "Briefly describe your research question or interests here.\n",
    "\n",
    "Analyzing the impact that assets of a company has on revenues and profits"
   ]
  },
  {
   "cell_type": "code",
   "execution_count": 1,
   "metadata": {},
   "outputs": [],
   "source": [
    "import pandas as pd\n",
    "import numpy as np\n",
    "import matplotlib.pyplot as plt\n",
    "import seaborn as sns\n",
    "url = \"../data/raw/Fortune 1000 Companies by Revenue.csv\"\n",
    "df = pd.read_csv(url)"
   ]
  },
  {
   "cell_type": "code",
   "execution_count": 2,
   "metadata": {},
   "outputs": [
    {
     "name": "stdout",
     "output_type": "stream",
     "text": [
      "<class 'pandas.core.frame.DataFrame'>\n",
      "RangeIndex: 1000 entries, 0 to 999\n",
      "Data columns (total 10 columns):\n",
      " #   Column                  Non-Null Count  Dtype \n",
      "---  ------                  --------------  ----- \n",
      " 0   rank                    1000 non-null   object\n",
      " 1   name                    1000 non-null   object\n",
      " 2   revenues                1000 non-null   object\n",
      " 3   revenue_percent_change  1000 non-null   object\n",
      " 4   profits                 1000 non-null   object\n",
      " 5   profits_percent_change  1000 non-null   object\n",
      " 6   assets                  1000 non-null   object\n",
      " 7   market_value            1000 non-null   object\n",
      " 8   change_in_rank          1000 non-null   object\n",
      " 9   employees               1000 non-null   object\n",
      "dtypes: object(10)\n",
      "memory usage: 78.2+ KB\n"
     ]
    },
    {
     "data": {
      "text/html": [
       "<div>\n",
       "<style scoped>\n",
       "    .dataframe tbody tr th:only-of-type {\n",
       "        vertical-align: middle;\n",
       "    }\n",
       "\n",
       "    .dataframe tbody tr th {\n",
       "        vertical-align: top;\n",
       "    }\n",
       "\n",
       "    .dataframe thead th {\n",
       "        text-align: right;\n",
       "    }\n",
       "</style>\n",
       "<table border=\"1\" class=\"dataframe\">\n",
       "  <thead>\n",
       "    <tr style=\"text-align: right;\">\n",
       "      <th></th>\n",
       "      <th>count</th>\n",
       "      <th>unique</th>\n",
       "      <th>top</th>\n",
       "      <th>freq</th>\n",
       "    </tr>\n",
       "  </thead>\n",
       "  <tbody>\n",
       "    <tr>\n",
       "      <th>rank</th>\n",
       "      <td>1000</td>\n",
       "      <td>997</td>\n",
       "      <td>466</td>\n",
       "      <td>2</td>\n",
       "    </tr>\n",
       "    <tr>\n",
       "      <th>name</th>\n",
       "      <td>1000</td>\n",
       "      <td>1000</td>\n",
       "      <td>Walmart</td>\n",
       "      <td>1</td>\n",
       "    </tr>\n",
       "    <tr>\n",
       "      <th>revenues</th>\n",
       "      <td>1000</td>\n",
       "      <td>993</td>\n",
       "      <td>$7,156</td>\n",
       "      <td>2</td>\n",
       "    </tr>\n",
       "    <tr>\n",
       "      <th>revenue_percent_change</th>\n",
       "      <td>1000</td>\n",
       "      <td>556</td>\n",
       "      <td>-</td>\n",
       "      <td>8</td>\n",
       "    </tr>\n",
       "    <tr>\n",
       "      <th>profits</th>\n",
       "      <td>1000</td>\n",
       "      <td>965</td>\n",
       "      <td>-</td>\n",
       "      <td>3</td>\n",
       "    </tr>\n",
       "    <tr>\n",
       "      <th>profits_percent_change</th>\n",
       "      <td>1000</td>\n",
       "      <td>641</td>\n",
       "      <td>-</td>\n",
       "      <td>273</td>\n",
       "    </tr>\n",
       "    <tr>\n",
       "      <th>assets</th>\n",
       "      <td>1000</td>\n",
       "      <td>997</td>\n",
       "      <td>$13,223</td>\n",
       "      <td>2</td>\n",
       "    </tr>\n",
       "    <tr>\n",
       "      <th>market_value</th>\n",
       "      <td>1000</td>\n",
       "      <td>956</td>\n",
       "      <td>-</td>\n",
       "      <td>45</td>\n",
       "    </tr>\n",
       "    <tr>\n",
       "      <th>change_in_rank</th>\n",
       "      <td>1000</td>\n",
       "      <td>276</td>\n",
       "      <td>-</td>\n",
       "      <td>80</td>\n",
       "    </tr>\n",
       "    <tr>\n",
       "      <th>employees</th>\n",
       "      <td>1000</td>\n",
       "      <td>763</td>\n",
       "      <td>14,000</td>\n",
       "      <td>8</td>\n",
       "    </tr>\n",
       "  </tbody>\n",
       "</table>\n",
       "</div>"
      ],
      "text/plain": [
       "                       count unique       top freq\n",
       "rank                    1000    997       466    2\n",
       "name                    1000   1000   Walmart    1\n",
       "revenues                1000    993   $7,156     2\n",
       "revenue_percent_change  1000    556         -    8\n",
       "profits                 1000    965         -    3\n",
       "profits_percent_change  1000    641         -  273\n",
       "assets                  1000    997  $13,223     2\n",
       "market_value            1000    956         -   45\n",
       "change_in_rank          1000    276         -   80\n",
       "employees               1000    763    14,000    8"
      ]
     },
     "execution_count": 2,
     "metadata": {},
     "output_type": "execute_result"
    }
   ],
   "source": [
    "df.info()\n",
    "df.head()\n",
    "df.describe().T"
   ]
  },
  {
   "cell_type": "code",
   "execution_count": 3,
   "metadata": {},
   "outputs": [
    {
     "data": {
      "text/html": [
       "<div>\n",
       "<style scoped>\n",
       "    .dataframe tbody tr th:only-of-type {\n",
       "        vertical-align: middle;\n",
       "    }\n",
       "\n",
       "    .dataframe tbody tr th {\n",
       "        vertical-align: top;\n",
       "    }\n",
       "\n",
       "    .dataframe thead th {\n",
       "        text-align: right;\n",
       "    }\n",
       "</style>\n",
       "<table border=\"1\" class=\"dataframe\">\n",
       "  <thead>\n",
       "    <tr style=\"text-align: right;\">\n",
       "      <th></th>\n",
       "      <th>rank</th>\n",
       "      <th>name</th>\n",
       "      <th>revenues</th>\n",
       "      <th>revenue_percent_change</th>\n",
       "      <th>profits</th>\n",
       "      <th>profits_percent_change</th>\n",
       "      <th>assets</th>\n",
       "      <th>market_value</th>\n",
       "      <th>change_in_rank</th>\n",
       "      <th>employees</th>\n",
       "    </tr>\n",
       "  </thead>\n",
       "  <tbody>\n",
       "    <tr>\n",
       "      <th>0</th>\n",
       "      <td>1</td>\n",
       "      <td>Walmart</td>\n",
       "      <td>572754.0</td>\n",
       "      <td>2.4</td>\n",
       "      <td>13673.0</td>\n",
       "      <td>1.2</td>\n",
       "      <td>244860.0</td>\n",
       "      <td>409795.0</td>\n",
       "      <td>NaN</td>\n",
       "      <td>2300000.0</td>\n",
       "    </tr>\n",
       "    <tr>\n",
       "      <th>1</th>\n",
       "      <td>2</td>\n",
       "      <td>Amazon</td>\n",
       "      <td>469822.0</td>\n",
       "      <td>21.7</td>\n",
       "      <td>33364.0</td>\n",
       "      <td>56.4</td>\n",
       "      <td>420549.0</td>\n",
       "      <td>1658807.3</td>\n",
       "      <td>NaN</td>\n",
       "      <td>1608000.0</td>\n",
       "    </tr>\n",
       "    <tr>\n",
       "      <th>2</th>\n",
       "      <td>3</td>\n",
       "      <td>Apple</td>\n",
       "      <td>365817.0</td>\n",
       "      <td>33.3</td>\n",
       "      <td>94680.0</td>\n",
       "      <td>64.9</td>\n",
       "      <td>351002.0</td>\n",
       "      <td>2849537.6</td>\n",
       "      <td>NaN</td>\n",
       "      <td>154000.0</td>\n",
       "    </tr>\n",
       "    <tr>\n",
       "      <th>3</th>\n",
       "      <td>4</td>\n",
       "      <td>CVS Health</td>\n",
       "      <td>292111.0</td>\n",
       "      <td>8.7</td>\n",
       "      <td>7910.0</td>\n",
       "      <td>10.2</td>\n",
       "      <td>232999.0</td>\n",
       "      <td>132839.2</td>\n",
       "      <td>NaN</td>\n",
       "      <td>258000.0</td>\n",
       "    </tr>\n",
       "    <tr>\n",
       "      <th>4</th>\n",
       "      <td>5</td>\n",
       "      <td>UnitedHealth Group</td>\n",
       "      <td>287597.0</td>\n",
       "      <td>11.8</td>\n",
       "      <td>17285.0</td>\n",
       "      <td>12.2</td>\n",
       "      <td>212206.0</td>\n",
       "      <td>479830.3</td>\n",
       "      <td>NaN</td>\n",
       "      <td>350000.0</td>\n",
       "    </tr>\n",
       "    <tr>\n",
       "      <th>...</th>\n",
       "      <td>...</td>\n",
       "      <td>...</td>\n",
       "      <td>...</td>\n",
       "      <td>...</td>\n",
       "      <td>...</td>\n",
       "      <td>...</td>\n",
       "      <td>...</td>\n",
       "      <td>...</td>\n",
       "      <td>...</td>\n",
       "      <td>...</td>\n",
       "    </tr>\n",
       "    <tr>\n",
       "      <th>991</th>\n",
       "      <td>992</td>\n",
       "      <td>Beazer Homes USA</td>\n",
       "      <td>2140.3</td>\n",
       "      <td>0.6</td>\n",
       "      <td>122.0</td>\n",
       "      <td>133.6</td>\n",
       "      <td>2078.8</td>\n",
       "      <td>478.8</td>\n",
       "      <td>-61</td>\n",
       "      <td>1052.0</td>\n",
       "    </tr>\n",
       "    <tr>\n",
       "      <th>992</th>\n",
       "      <td>993</td>\n",
       "      <td>Chemed</td>\n",
       "      <td>2139.3</td>\n",
       "      <td>2.9</td>\n",
       "      <td>268.6</td>\n",
       "      <td>-15.9</td>\n",
       "      <td>1342.7</td>\n",
       "      <td>7592.5</td>\n",
       "      <td>-49</td>\n",
       "      <td>14137.0</td>\n",
       "    </tr>\n",
       "    <tr>\n",
       "      <th>995</th>\n",
       "      <td>996</td>\n",
       "      <td>Vizio Holding</td>\n",
       "      <td>2124.0</td>\n",
       "      <td>4.0</td>\n",
       "      <td>39.4</td>\n",
       "      <td>-138.4</td>\n",
       "      <td>935.8</td>\n",
       "      <td>1705.1</td>\n",
       "      <td>NaN</td>\n",
       "      <td>800.0</td>\n",
       "    </tr>\n",
       "    <tr>\n",
       "      <th>996</th>\n",
       "      <td>997</td>\n",
       "      <td>1-800-Flowers.com</td>\n",
       "      <td>2122.2</td>\n",
       "      <td>42.5</td>\n",
       "      <td>118.7</td>\n",
       "      <td>101.1</td>\n",
       "      <td>1076.7</td>\n",
       "      <td>830.0</td>\n",
       "      <td>NaN</td>\n",
       "      <td>4800.0</td>\n",
       "    </tr>\n",
       "    <tr>\n",
       "      <th>997</th>\n",
       "      <td>998</td>\n",
       "      <td>Cowen</td>\n",
       "      <td>2112.8</td>\n",
       "      <td>30.2</td>\n",
       "      <td>295.6</td>\n",
       "      <td>36.6</td>\n",
       "      <td>8748.8</td>\n",
       "      <td>744.1</td>\n",
       "      <td>NaN</td>\n",
       "      <td>1534.0</td>\n",
       "    </tr>\n",
       "  </tbody>\n",
       "</table>\n",
       "<p>688 rows × 10 columns</p>\n",
       "</div>"
      ],
      "text/plain": [
       "    rank                name  revenues  revenue_percent_change  profits  \\\n",
       "0      1             Walmart  572754.0                     2.4  13673.0   \n",
       "1      2              Amazon  469822.0                    21.7  33364.0   \n",
       "2      3               Apple  365817.0                    33.3  94680.0   \n",
       "3      4          CVS Health  292111.0                     8.7   7910.0   \n",
       "4      5  UnitedHealth Group  287597.0                    11.8  17285.0   \n",
       "..   ...                 ...       ...                     ...      ...   \n",
       "991  992    Beazer Homes USA    2140.3                     0.6    122.0   \n",
       "992  993              Chemed    2139.3                     2.9    268.6   \n",
       "995  996       Vizio Holding    2124.0                     4.0     39.4   \n",
       "996  997   1-800-Flowers.com    2122.2                    42.5    118.7   \n",
       "997  998               Cowen    2112.8                    30.2    295.6   \n",
       "\n",
       "     profits_percent_change    assets  market_value change_in_rank  employees  \n",
       "0                       1.2  244860.0      409795.0            NaN  2300000.0  \n",
       "1                      56.4  420549.0     1658807.3            NaN  1608000.0  \n",
       "2                      64.9  351002.0     2849537.6            NaN   154000.0  \n",
       "3                      10.2  232999.0      132839.2            NaN   258000.0  \n",
       "4                      12.2  212206.0      479830.3            NaN   350000.0  \n",
       "..                      ...       ...           ...            ...        ...  \n",
       "991                   133.6    2078.8         478.8            -61     1052.0  \n",
       "992                   -15.9    1342.7        7592.5            -49    14137.0  \n",
       "995                  -138.4     935.8        1705.1            NaN      800.0  \n",
       "996                   101.1    1076.7         830.0            NaN     4800.0  \n",
       "997                    36.6    8748.8         744.1            NaN     1534.0  \n",
       "\n",
       "[688 rows x 10 columns]"
      ]
     },
     "execution_count": 3,
     "metadata": {},
     "output_type": "execute_result"
    }
   ],
   "source": [
    "import warnings\n",
    "warnings.filterwarnings(\"ignore\")\n",
    "df = pd.read_csv(url)\n",
    "df['revenues'] = df['revenues'].str.replace(',', '').str.replace('$', '').astype(float)\n",
    "df['profits'] = df['profits'].replace('-', np.nan)\n",
    "df['profits'] = df['profits'].str.replace('(', '').str.replace(')', '')\n",
    "df['profits'] = df['profits'].str.replace(',', '').str.replace('$', '').astype(float)\n",
    "df['assets'] = df['assets'].str.replace(',', '').str.replace('$', '').astype(float)\n",
    "df['market_value'] = df['market_value'].replace('-', np.nan)\n",
    "df['market_value'] = df['market_value'].str.replace(',', '').str.replace('$', '').astype(float)\n",
    "df['employees'] = df['employees'].replace('-', np.nan)\n",
    "df['employees'] = df['employees'].str.replace(',', '').astype(float)\n",
    "df['revenue_percent_change'] = df['revenue_percent_change'].replace('-', np.nan)\n",
    "df['revenue_percent_change'] = df['revenue_percent_change'].str.replace('%', '').astype(float)\n",
    "df['profits_percent_change'] = df['profits_percent_change'].replace('-', np.nan)\n",
    "df['profits_percent_change'] = df['profits_percent_change'].str.replace('%', '').astype(float)\n",
    "df['change_in_rank'] = df['change_in_rank'].replace('-', np.nan)\n",
    "\n",
    "df = df.dropna(subset=['revenues', 'revenue_percent_change', 'profits','profits_percent_change', 'assets', 'market_value', 'employees'])\n",
    "df"
   ]
  },
  {
   "cell_type": "code",
   "execution_count": 20,
   "metadata": {},
   "outputs": [
    {
     "data": {
      "text/html": [
       "<div>\n",
       "<style scoped>\n",
       "    .dataframe tbody tr th:only-of-type {\n",
       "        vertical-align: middle;\n",
       "    }\n",
       "\n",
       "    .dataframe tbody tr th {\n",
       "        vertical-align: top;\n",
       "    }\n",
       "\n",
       "    .dataframe thead th {\n",
       "        text-align: right;\n",
       "    }\n",
       "</style>\n",
       "<table border=\"1\" class=\"dataframe\">\n",
       "  <thead>\n",
       "    <tr style=\"text-align: right;\">\n",
       "      <th></th>\n",
       "      <th>revenues</th>\n",
       "      <th>revenue_percent_change</th>\n",
       "      <th>profits</th>\n",
       "      <th>profits_percent_change</th>\n",
       "      <th>assets</th>\n",
       "      <th>market_value</th>\n",
       "      <th>employees</th>\n",
       "      <th>revenue_over_profit</th>\n",
       "      <th>market_over_asset</th>\n",
       "    </tr>\n",
       "  </thead>\n",
       "  <tbody>\n",
       "    <tr>\n",
       "      <th>count</th>\n",
       "      <td>688.000000</td>\n",
       "      <td>688.000000</td>\n",
       "      <td>688.000000</td>\n",
       "      <td>688.000000</td>\n",
       "      <td>6.880000e+02</td>\n",
       "      <td>6.880000e+02</td>\n",
       "      <td>6.880000e+02</td>\n",
       "      <td>688.000000</td>\n",
       "      <td>688.000000</td>\n",
       "    </tr>\n",
       "    <tr>\n",
       "      <th>mean</th>\n",
       "      <td>19431.373401</td>\n",
       "      <td>20.961047</td>\n",
       "      <td>2626.288081</td>\n",
       "      <td>338.974855</td>\n",
       "      <td>7.004708e+04</td>\n",
       "      <td>5.477251e+04</td>\n",
       "      <td>4.094729e+04</td>\n",
       "      <td>16.723604</td>\n",
       "      <td>1.801162</td>\n",
       "    </tr>\n",
       "    <tr>\n",
       "      <th>std</th>\n",
       "      <td>44721.783523</td>\n",
       "      <td>34.522314</td>\n",
       "      <td>7436.514037</td>\n",
       "      <td>2831.654260</td>\n",
       "      <td>3.110447e+05</td>\n",
       "      <td>1.869759e+05</td>\n",
       "      <td>1.230879e+05</td>\n",
       "      <td>31.039718</td>\n",
       "      <td>2.145690</td>\n",
       "    </tr>\n",
       "    <tr>\n",
       "      <th>min</th>\n",
       "      <td>2112.800000</td>\n",
       "      <td>-39.900000</td>\n",
       "      <td>12.500000</td>\n",
       "      <td>-989.100000</td>\n",
       "      <td>4.138000e+02</td>\n",
       "      <td>3.719000e+02</td>\n",
       "      <td>3.470000e+02</td>\n",
       "      <td>0.688311</td>\n",
       "      <td>0.000169</td>\n",
       "    </tr>\n",
       "    <tr>\n",
       "      <th>25%</th>\n",
       "      <td>3732.375000</td>\n",
       "      <td>6.375000</td>\n",
       "      <td>367.775000</td>\n",
       "      <td>10.175000</td>\n",
       "      <td>4.936175e+03</td>\n",
       "      <td>5.379650e+03</td>\n",
       "      <td>7.207250e+03</td>\n",
       "      <td>5.522112</td>\n",
       "      <td>0.583136</td>\n",
       "    </tr>\n",
       "    <tr>\n",
       "      <th>50%</th>\n",
       "      <td>6811.800000</td>\n",
       "      <td>14.850000</td>\n",
       "      <td>783.000000</td>\n",
       "      <td>41.250000</td>\n",
       "      <td>1.252010e+04</td>\n",
       "      <td>1.578655e+04</td>\n",
       "      <td>1.411850e+04</td>\n",
       "      <td>9.278985</td>\n",
       "      <td>1.144177</td>\n",
       "    </tr>\n",
       "    <tr>\n",
       "      <th>75%</th>\n",
       "      <td>15760.250000</td>\n",
       "      <td>25.625000</td>\n",
       "      <td>1916.075000</td>\n",
       "      <td>116.875000</td>\n",
       "      <td>3.465050e+04</td>\n",
       "      <td>4.094462e+04</td>\n",
       "      <td>3.100000e+04</td>\n",
       "      <td>16.373610</td>\n",
       "      <td>2.120141</td>\n",
       "    </tr>\n",
       "    <tr>\n",
       "      <th>max</th>\n",
       "      <td>572754.000000</td>\n",
       "      <td>513.700000</td>\n",
       "      <td>94680.000000</td>\n",
       "      <td>49978.900000</td>\n",
       "      <td>4.229166e+06</td>\n",
       "      <td>2.849538e+06</td>\n",
       "      <td>2.300000e+06</td>\n",
       "      <td>425.196744</td>\n",
       "      <td>18.910758</td>\n",
       "    </tr>\n",
       "  </tbody>\n",
       "</table>\n",
       "</div>"
      ],
      "text/plain": [
       "            revenues  revenue_percent_change       profits  \\\n",
       "count     688.000000              688.000000    688.000000   \n",
       "mean    19431.373401               20.961047   2626.288081   \n",
       "std     44721.783523               34.522314   7436.514037   \n",
       "min      2112.800000              -39.900000     12.500000   \n",
       "25%      3732.375000                6.375000    367.775000   \n",
       "50%      6811.800000               14.850000    783.000000   \n",
       "75%     15760.250000               25.625000   1916.075000   \n",
       "max    572754.000000              513.700000  94680.000000   \n",
       "\n",
       "       profits_percent_change        assets  market_value     employees  \\\n",
       "count              688.000000  6.880000e+02  6.880000e+02  6.880000e+02   \n",
       "mean               338.974855  7.004708e+04  5.477251e+04  4.094729e+04   \n",
       "std               2831.654260  3.110447e+05  1.869759e+05  1.230879e+05   \n",
       "min               -989.100000  4.138000e+02  3.719000e+02  3.470000e+02   \n",
       "25%                 10.175000  4.936175e+03  5.379650e+03  7.207250e+03   \n",
       "50%                 41.250000  1.252010e+04  1.578655e+04  1.411850e+04   \n",
       "75%                116.875000  3.465050e+04  4.094462e+04  3.100000e+04   \n",
       "max              49978.900000  4.229166e+06  2.849538e+06  2.300000e+06   \n",
       "\n",
       "       revenue_over_profit  market_over_asset  \n",
       "count           688.000000         688.000000  \n",
       "mean             16.723604           1.801162  \n",
       "std              31.039718           2.145690  \n",
       "min               0.688311           0.000169  \n",
       "25%               5.522112           0.583136  \n",
       "50%               9.278985           1.144177  \n",
       "75%              16.373610           2.120141  \n",
       "max             425.196744          18.910758  "
      ]
     },
     "execution_count": 20,
     "metadata": {},
     "output_type": "execute_result"
    }
   ],
   "source": [
    "import project_functions3\n",
    "df =  project_functions3.load_and_process(url)\n",
    "df.describe()"
   ]
  },
  {
   "cell_type": "markdown",
   "metadata": {},
   "source": [
    "# Analzying the impact of profits and revenus on assets "
   ]
  },
  {
   "cell_type": "code",
   "execution_count": 21,
   "metadata": {},
   "outputs": [
    {
     "data": {
      "text/plain": [
       "<AxesSubplot:xlabel='profits', ylabel='assets'>"
      ]
     },
     "execution_count": 21,
     "metadata": {},
     "output_type": "execute_result"
    },
    {
     "data": {
      "image/png": "[encoded data removed]",
      "text/plain": [
       "<Figure size 640x480 with 1 Axes>"
      ]
     },
     "metadata": {},
     "output_type": "display_data"
    }
   ],
   "source": [
    "sns.set_style(\"whitegrid\")\n",
    "sns.scatterplot(data=df, y = 'assets', x = 'profits')"
   ]
  },
  {
   "cell_type": "markdown",
   "metadata": {},
   "source": [
    "# Reducing the max profits to 20000"
   ]
  },
  {
   "cell_type": "code",
   "execution_count": 22,
   "metadata": {},
   "outputs": [
    {
     "data": {
      "text/plain": [
       "<AxesSubplot:xlabel='profits', ylabel='assets'>"
      ]
     },
     "execution_count": 22,
     "metadata": {},
     "output_type": "execute_result"
    },
    {
     "data": {
      "image/png": "[encoded data removed]",
      "text/plain": [
       "<Figure size 640x480 with 1 Axes>"
      ]
     },
     "metadata": {},
     "output_type": "display_data"
    }
   ],
   "source": [
    "df = df.drop(df['profits'].loc[(df['profits'] > 20000)].index)\n",
    "sns.scatterplot(x = df['profits'], y=df['assets'])"
   ]
  },
  {
   "cell_type": "markdown",
   "metadata": {},
   "source": [
    "# Reducing max profits to 10000"
   ]
  },
  {
   "cell_type": "code",
   "execution_count": 23,
   "metadata": {},
   "outputs": [
    {
     "data": {
      "text/plain": [
       "<AxesSubplot:xlabel='profits', ylabel='assets'>"
      ]
     },
     "execution_count": 23,
     "metadata": {},
     "output_type": "execute_result"
    },
    {
     "data": {
      "image/png": "[encoded data removed]",
      "text/plain": [
       "<Figure size 640x480 with 1 Axes>"
      ]
     },
     "metadata": {},
     "output_type": "display_data"
    }
   ],
   "source": [
    "df = df.drop(df['profits'].loc[(df['profits'] > 10000)].index)\n",
    "sns.scatterplot(x = df['profits'], y=df['assets'])"
   ]
  },
  {
   "cell_type": "markdown",
   "metadata": {},
   "source": [
    "# Reducing max profits to 4000"
   ]
  },
  {
   "cell_type": "code",
   "execution_count": 26,
   "metadata": {},
   "outputs": [
    {
     "data": {
      "text/plain": [
       "<seaborn.axisgrid.FacetGrid at 0x22011f93310>"
      ]
     },
     "execution_count": 26,
     "metadata": {},
     "output_type": "execute_result"
    },
    {
     "data": {
      "image/png": "[encoded data removed]",
      "text/plain": [
       "<Figure size 500x500 with 1 Axes>"
      ]
     },
     "metadata": {},
     "output_type": "display_data"
    }
   ],
   "source": [
    "df = df.drop(df['profits'].loc[(df['profits'] > 4000)].index)\n",
    "sns.lmplot(data = df,x = 'profits', y='assets')"
   ]
  },
  {
   "cell_type": "markdown",
   "metadata": {},
   "source": [
    "The scatterplots demonstrate the relationship that assets has on profits. A scatterplot was selected to assist us in visualizing the answer to this research question as the invidual data points are plotted and a generic trend in the data can be observed as a result. We can see from the graphs that generally as profits increase, the assets of a company will also increase. It is intereasting to see how the comparision holds a linear relationship between profits and assets, it can then be concluded that profits have a positive impact on the company's assets. This outcome was expected as we were aware that a corporation grows when it generates money because its net assets have grown. Even if a portion of the income is later paid out as a dividend to shareholders, the firm has expanded due to its own activities."
   ]
  },
  {
   "cell_type": "code",
   "execution_count": null,
   "metadata": {},
   "outputs": [],
   "source": []
  },
  {
   "cell_type": "code",
   "execution_count": null,
   "metadata": {},
   "outputs": [],
   "source": []
  }
 ],
 "metadata": {
  "kernelspec": {
   "display_name": "Python 3 (ipykernel)",
   "language": "python",
   "name": "python3"
  },
  "language_info": {
   "codemirror_mode": {
    "name": "ipython",
    "version": 3
   },
   "file_extension": ".py",
   "mimetype": "text/x-python",
   "name": "python",
   "nbconvert_exporter": "python",
   "pygments_lexer": "ipython3",
   "version": "3.9.12"
  }
 },
 "nbformat": 4,
 "nbformat_minor": 4
}
